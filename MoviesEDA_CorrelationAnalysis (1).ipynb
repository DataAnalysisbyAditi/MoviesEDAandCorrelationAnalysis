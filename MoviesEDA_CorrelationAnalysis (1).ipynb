{
 "cells": [
  {
   "cell_type": "markdown",
   "id": "bb677aba-7ceb-42f0-af45-2e73380212e2",
   "metadata": {},
   "source": [
    "#### MOVIES DATA EDA AND CORRELATION ANALYSIS"
   ]
  },
  {
   "cell_type": "code",
   "execution_count": 1,
   "id": "28227921-d227-4627-a836-ae04c2fd86a2",
   "metadata": {},
   "outputs": [],
   "source": [
    "#Importing packages\n",
    "import pandas as pd\n",
    "import numpy as np\n",
    "import matplotlib\n",
    "import matplotlib.pyplot as plt\n",
    "import seaborn as sns\n",
    "%matplotlib inline\n",
    "plt.style.use('ggplot')"
   ]
  },
  {
   "cell_type": "code",
   "execution_count": 2,
   "id": "db3fbfdf-e217-4e97-bf6a-0fbdf91ce67f",
   "metadata": {},
   "outputs": [],
   "source": [
    "movies = pd.read_csv(\"movies.csv\")"
   ]
  },
  {
   "cell_type": "code",
   "execution_count": 3,
   "id": "81c13cf9-eabc-4c8d-8aa8-f3184c9a8d6a",
   "metadata": {},
   "outputs": [
    {
     "name": "stdout",
     "output_type": "stream",
     "text": [
      "<class 'pandas.core.frame.DataFrame'>\n",
      "RangeIndex: 7668 entries, 0 to 7667\n",
      "Data columns (total 15 columns):\n",
      " #   Column    Non-Null Count  Dtype  \n",
      "---  ------    --------------  -----  \n",
      " 0   name      7668 non-null   object \n",
      " 1   rating    7591 non-null   object \n",
      " 2   genre     7668 non-null   object \n",
      " 3   year      7668 non-null   int64  \n",
      " 4   released  7666 non-null   object \n",
      " 5   score     7665 non-null   float64\n",
      " 6   votes     7665 non-null   float64\n",
      " 7   director  7668 non-null   object \n",
      " 8   writer    7665 non-null   object \n",
      " 9   star      7667 non-null   object \n",
      " 10  country   7665 non-null   object \n",
      " 11  budget    5497 non-null   float64\n",
      " 12  gross     7479 non-null   float64\n",
      " 13  company   7651 non-null   object \n",
      " 14  runtime   7664 non-null   float64\n",
      "dtypes: float64(5), int64(1), object(9)\n",
      "memory usage: 898.7+ KB\n"
     ]
    }
   ],
   "source": [
    "#Getting to know the data\n",
    "movies.info()"
   ]
  },
  {
   "cell_type": "code",
   "execution_count": 4,
   "id": "71e88cba-e721-46d0-9d05-9976d2fd2210",
   "metadata": {},
   "outputs": [
    {
     "data": {
      "text/html": [
       "<div>\n",
       "<style scoped>\n",
       "    .dataframe tbody tr th:only-of-type {\n",
       "        vertical-align: middle;\n",
       "    }\n",
       "\n",
       "    .dataframe tbody tr th {\n",
       "        vertical-align: top;\n",
       "    }\n",
       "\n",
       "    .dataframe thead th {\n",
       "        text-align: right;\n",
       "    }\n",
       "</style>\n",
       "<table border=\"1\" class=\"dataframe\">\n",
       "  <thead>\n",
       "    <tr style=\"text-align: right;\">\n",
       "      <th></th>\n",
       "      <th>name</th>\n",
       "      <th>rating</th>\n",
       "      <th>genre</th>\n",
       "      <th>year</th>\n",
       "      <th>released</th>\n",
       "      <th>score</th>\n",
       "      <th>votes</th>\n",
       "      <th>director</th>\n",
       "      <th>writer</th>\n",
       "      <th>star</th>\n",
       "      <th>country</th>\n",
       "      <th>budget</th>\n",
       "      <th>gross</th>\n",
       "      <th>company</th>\n",
       "      <th>runtime</th>\n",
       "    </tr>\n",
       "  </thead>\n",
       "  <tbody>\n",
       "    <tr>\n",
       "      <th>0</th>\n",
       "      <td>The Shining</td>\n",
       "      <td>R</td>\n",
       "      <td>Drama</td>\n",
       "      <td>1980</td>\n",
       "      <td>June 13, 1980 (United States)</td>\n",
       "      <td>8.4</td>\n",
       "      <td>927000.0</td>\n",
       "      <td>Stanley Kubrick</td>\n",
       "      <td>Stephen King</td>\n",
       "      <td>Jack Nicholson</td>\n",
       "      <td>United Kingdom</td>\n",
       "      <td>19000000.0</td>\n",
       "      <td>46998772.0</td>\n",
       "      <td>Warner Bros.</td>\n",
       "      <td>146.0</td>\n",
       "    </tr>\n",
       "    <tr>\n",
       "      <th>1</th>\n",
       "      <td>The Blue Lagoon</td>\n",
       "      <td>R</td>\n",
       "      <td>Adventure</td>\n",
       "      <td>1980</td>\n",
       "      <td>July 2, 1980 (United States)</td>\n",
       "      <td>5.8</td>\n",
       "      <td>65000.0</td>\n",
       "      <td>Randal Kleiser</td>\n",
       "      <td>Henry De Vere Stacpoole</td>\n",
       "      <td>Brooke Shields</td>\n",
       "      <td>United States</td>\n",
       "      <td>4500000.0</td>\n",
       "      <td>58853106.0</td>\n",
       "      <td>Columbia Pictures</td>\n",
       "      <td>104.0</td>\n",
       "    </tr>\n",
       "    <tr>\n",
       "      <th>2</th>\n",
       "      <td>Star Wars: Episode V - The Empire Strikes Back</td>\n",
       "      <td>PG</td>\n",
       "      <td>Action</td>\n",
       "      <td>1980</td>\n",
       "      <td>June 20, 1980 (United States)</td>\n",
       "      <td>8.7</td>\n",
       "      <td>1200000.0</td>\n",
       "      <td>Irvin Kershner</td>\n",
       "      <td>Leigh Brackett</td>\n",
       "      <td>Mark Hamill</td>\n",
       "      <td>United States</td>\n",
       "      <td>18000000.0</td>\n",
       "      <td>538375067.0</td>\n",
       "      <td>Lucasfilm</td>\n",
       "      <td>124.0</td>\n",
       "    </tr>\n",
       "    <tr>\n",
       "      <th>3</th>\n",
       "      <td>Airplane!</td>\n",
       "      <td>PG</td>\n",
       "      <td>Comedy</td>\n",
       "      <td>1980</td>\n",
       "      <td>July 2, 1980 (United States)</td>\n",
       "      <td>7.7</td>\n",
       "      <td>221000.0</td>\n",
       "      <td>Jim Abrahams</td>\n",
       "      <td>Jim Abrahams</td>\n",
       "      <td>Robert Hays</td>\n",
       "      <td>United States</td>\n",
       "      <td>3500000.0</td>\n",
       "      <td>83453539.0</td>\n",
       "      <td>Paramount Pictures</td>\n",
       "      <td>88.0</td>\n",
       "    </tr>\n",
       "    <tr>\n",
       "      <th>4</th>\n",
       "      <td>Caddyshack</td>\n",
       "      <td>R</td>\n",
       "      <td>Comedy</td>\n",
       "      <td>1980</td>\n",
       "      <td>July 25, 1980 (United States)</td>\n",
       "      <td>7.3</td>\n",
       "      <td>108000.0</td>\n",
       "      <td>Harold Ramis</td>\n",
       "      <td>Brian Doyle-Murray</td>\n",
       "      <td>Chevy Chase</td>\n",
       "      <td>United States</td>\n",
       "      <td>6000000.0</td>\n",
       "      <td>39846344.0</td>\n",
       "      <td>Orion Pictures</td>\n",
       "      <td>98.0</td>\n",
       "    </tr>\n",
       "    <tr>\n",
       "      <th>5</th>\n",
       "      <td>Friday the 13th</td>\n",
       "      <td>R</td>\n",
       "      <td>Horror</td>\n",
       "      <td>1980</td>\n",
       "      <td>May 9, 1980 (United States)</td>\n",
       "      <td>6.4</td>\n",
       "      <td>123000.0</td>\n",
       "      <td>Sean S. Cunningham</td>\n",
       "      <td>Victor Miller</td>\n",
       "      <td>Betsy Palmer</td>\n",
       "      <td>United States</td>\n",
       "      <td>550000.0</td>\n",
       "      <td>39754601.0</td>\n",
       "      <td>Paramount Pictures</td>\n",
       "      <td>95.0</td>\n",
       "    </tr>\n",
       "    <tr>\n",
       "      <th>6</th>\n",
       "      <td>The Blues Brothers</td>\n",
       "      <td>R</td>\n",
       "      <td>Action</td>\n",
       "      <td>1980</td>\n",
       "      <td>June 20, 1980 (United States)</td>\n",
       "      <td>7.9</td>\n",
       "      <td>188000.0</td>\n",
       "      <td>John Landis</td>\n",
       "      <td>Dan Aykroyd</td>\n",
       "      <td>John Belushi</td>\n",
       "      <td>United States</td>\n",
       "      <td>27000000.0</td>\n",
       "      <td>115229890.0</td>\n",
       "      <td>Universal Pictures</td>\n",
       "      <td>133.0</td>\n",
       "    </tr>\n",
       "    <tr>\n",
       "      <th>7</th>\n",
       "      <td>Raging Bull</td>\n",
       "      <td>R</td>\n",
       "      <td>Biography</td>\n",
       "      <td>1980</td>\n",
       "      <td>December 19, 1980 (United States)</td>\n",
       "      <td>8.2</td>\n",
       "      <td>330000.0</td>\n",
       "      <td>Martin Scorsese</td>\n",
       "      <td>Jake LaMotta</td>\n",
       "      <td>Robert De Niro</td>\n",
       "      <td>United States</td>\n",
       "      <td>18000000.0</td>\n",
       "      <td>23402427.0</td>\n",
       "      <td>Chartoff-Winkler Productions</td>\n",
       "      <td>129.0</td>\n",
       "    </tr>\n",
       "    <tr>\n",
       "      <th>8</th>\n",
       "      <td>Superman II</td>\n",
       "      <td>PG</td>\n",
       "      <td>Action</td>\n",
       "      <td>1980</td>\n",
       "      <td>June 19, 1981 (United States)</td>\n",
       "      <td>6.8</td>\n",
       "      <td>101000.0</td>\n",
       "      <td>Richard Lester</td>\n",
       "      <td>Jerry Siegel</td>\n",
       "      <td>Gene Hackman</td>\n",
       "      <td>United States</td>\n",
       "      <td>54000000.0</td>\n",
       "      <td>108185706.0</td>\n",
       "      <td>Dovemead Films</td>\n",
       "      <td>127.0</td>\n",
       "    </tr>\n",
       "    <tr>\n",
       "      <th>9</th>\n",
       "      <td>The Long Riders</td>\n",
       "      <td>R</td>\n",
       "      <td>Biography</td>\n",
       "      <td>1980</td>\n",
       "      <td>May 16, 1980 (United States)</td>\n",
       "      <td>7.0</td>\n",
       "      <td>10000.0</td>\n",
       "      <td>Walter Hill</td>\n",
       "      <td>Bill Bryden</td>\n",
       "      <td>David Carradine</td>\n",
       "      <td>United States</td>\n",
       "      <td>10000000.0</td>\n",
       "      <td>15795189.0</td>\n",
       "      <td>United Artists</td>\n",
       "      <td>100.0</td>\n",
       "    </tr>\n",
       "    <tr>\n",
       "      <th>10</th>\n",
       "      <td>Any Which Way You Can</td>\n",
       "      <td>PG</td>\n",
       "      <td>Action</td>\n",
       "      <td>1980</td>\n",
       "      <td>December 17, 1980 (United States)</td>\n",
       "      <td>6.1</td>\n",
       "      <td>18000.0</td>\n",
       "      <td>Buddy Van Horn</td>\n",
       "      <td>Stanford Sherman</td>\n",
       "      <td>Clint Eastwood</td>\n",
       "      <td>United States</td>\n",
       "      <td>15000000.0</td>\n",
       "      <td>70687344.0</td>\n",
       "      <td>The Malpaso Company</td>\n",
       "      <td>116.0</td>\n",
       "    </tr>\n",
       "    <tr>\n",
       "      <th>11</th>\n",
       "      <td>The Gods Must Be Crazy</td>\n",
       "      <td>PG</td>\n",
       "      <td>Adventure</td>\n",
       "      <td>1980</td>\n",
       "      <td>October 26, 1984 (United States)</td>\n",
       "      <td>7.3</td>\n",
       "      <td>54000.0</td>\n",
       "      <td>Jamie Uys</td>\n",
       "      <td>Jamie Uys</td>\n",
       "      <td>N!xau</td>\n",
       "      <td>South Africa</td>\n",
       "      <td>5000000.0</td>\n",
       "      <td>30031783.0</td>\n",
       "      <td>C.A.T. Films</td>\n",
       "      <td>109.0</td>\n",
       "    </tr>\n",
       "    <tr>\n",
       "      <th>12</th>\n",
       "      <td>Popeye</td>\n",
       "      <td>PG</td>\n",
       "      <td>Adventure</td>\n",
       "      <td>1980</td>\n",
       "      <td>December 12, 1980 (United States)</td>\n",
       "      <td>5.3</td>\n",
       "      <td>30000.0</td>\n",
       "      <td>Robert Altman</td>\n",
       "      <td>Jules Feiffer</td>\n",
       "      <td>Robin Williams</td>\n",
       "      <td>United States</td>\n",
       "      <td>20000000.0</td>\n",
       "      <td>49823037.0</td>\n",
       "      <td>Paramount Pictures</td>\n",
       "      <td>114.0</td>\n",
       "    </tr>\n",
       "    <tr>\n",
       "      <th>13</th>\n",
       "      <td>Ordinary People</td>\n",
       "      <td>R</td>\n",
       "      <td>Drama</td>\n",
       "      <td>1980</td>\n",
       "      <td>September 19, 1980 (United States)</td>\n",
       "      <td>7.7</td>\n",
       "      <td>49000.0</td>\n",
       "      <td>Robert Redford</td>\n",
       "      <td>Judith Guest</td>\n",
       "      <td>Donald Sutherland</td>\n",
       "      <td>United States</td>\n",
       "      <td>6000000.0</td>\n",
       "      <td>54766923.0</td>\n",
       "      <td>Paramount Pictures</td>\n",
       "      <td>124.0</td>\n",
       "    </tr>\n",
       "    <tr>\n",
       "      <th>14</th>\n",
       "      <td>Dressed to Kill</td>\n",
       "      <td>R</td>\n",
       "      <td>Crime</td>\n",
       "      <td>1980</td>\n",
       "      <td>July 25, 1980 (United States)</td>\n",
       "      <td>7.1</td>\n",
       "      <td>37000.0</td>\n",
       "      <td>Brian De Palma</td>\n",
       "      <td>Brian De Palma</td>\n",
       "      <td>Michael Caine</td>\n",
       "      <td>United States</td>\n",
       "      <td>6500000.0</td>\n",
       "      <td>31899000.0</td>\n",
       "      <td>Filmways Pictures</td>\n",
       "      <td>104.0</td>\n",
       "    </tr>\n",
       "    <tr>\n",
       "      <th>15</th>\n",
       "      <td>Somewhere in Time</td>\n",
       "      <td>PG</td>\n",
       "      <td>Drama</td>\n",
       "      <td>1980</td>\n",
       "      <td>October 3, 1980 (United States)</td>\n",
       "      <td>7.2</td>\n",
       "      <td>27000.0</td>\n",
       "      <td>Jeannot Szwarc</td>\n",
       "      <td>Richard Matheson</td>\n",
       "      <td>Christopher Reeve</td>\n",
       "      <td>United States</td>\n",
       "      <td>5100000.0</td>\n",
       "      <td>9709597.0</td>\n",
       "      <td>Rastar Pictures</td>\n",
       "      <td>103.0</td>\n",
       "    </tr>\n",
       "    <tr>\n",
       "      <th>16</th>\n",
       "      <td>Fame</td>\n",
       "      <td>R</td>\n",
       "      <td>Drama</td>\n",
       "      <td>1980</td>\n",
       "      <td>May 16, 1980 (United States)</td>\n",
       "      <td>6.6</td>\n",
       "      <td>21000.0</td>\n",
       "      <td>Alan Parker</td>\n",
       "      <td>Christopher Gore</td>\n",
       "      <td>Eddie Barth</td>\n",
       "      <td>United States</td>\n",
       "      <td>NaN</td>\n",
       "      <td>21202829.0</td>\n",
       "      <td>Metro-Goldwyn-Mayer (MGM)</td>\n",
       "      <td>134.0</td>\n",
       "    </tr>\n",
       "    <tr>\n",
       "      <th>17</th>\n",
       "      <td>9 to 5</td>\n",
       "      <td>PG</td>\n",
       "      <td>Comedy</td>\n",
       "      <td>1980</td>\n",
       "      <td>December 19, 1980 (United States)</td>\n",
       "      <td>6.9</td>\n",
       "      <td>29000.0</td>\n",
       "      <td>Colin Higgins</td>\n",
       "      <td>Patricia Resnick</td>\n",
       "      <td>Jane Fonda</td>\n",
       "      <td>United States</td>\n",
       "      <td>10000000.0</td>\n",
       "      <td>103300686.0</td>\n",
       "      <td>IPC Films</td>\n",
       "      <td>109.0</td>\n",
       "    </tr>\n",
       "    <tr>\n",
       "      <th>18</th>\n",
       "      <td>The Fog</td>\n",
       "      <td>R</td>\n",
       "      <td>Horror</td>\n",
       "      <td>1980</td>\n",
       "      <td>February 8, 1980 (United States)</td>\n",
       "      <td>6.8</td>\n",
       "      <td>66000.0</td>\n",
       "      <td>John Carpenter</td>\n",
       "      <td>John Carpenter</td>\n",
       "      <td>Adrienne Barbeau</td>\n",
       "      <td>United States</td>\n",
       "      <td>1000000.0</td>\n",
       "      <td>21448782.0</td>\n",
       "      <td>AVCO Embassy Pictures</td>\n",
       "      <td>89.0</td>\n",
       "    </tr>\n",
       "    <tr>\n",
       "      <th>19</th>\n",
       "      <td>Stir Crazy</td>\n",
       "      <td>R</td>\n",
       "      <td>Comedy</td>\n",
       "      <td>1980</td>\n",
       "      <td>December 12, 1980 (United States)</td>\n",
       "      <td>6.8</td>\n",
       "      <td>26000.0</td>\n",
       "      <td>Sidney Poitier</td>\n",
       "      <td>Bruce Jay Friedman</td>\n",
       "      <td>Gene Wilder</td>\n",
       "      <td>United States</td>\n",
       "      <td>NaN</td>\n",
       "      <td>101300000.0</td>\n",
       "      <td>Columbia Pictures</td>\n",
       "      <td>111.0</td>\n",
       "    </tr>\n",
       "  </tbody>\n",
       "</table>\n",
       "</div>"
      ],
      "text/plain": [
       "                                              name rating      genre  year  \\\n",
       "0                                      The Shining      R      Drama  1980   \n",
       "1                                  The Blue Lagoon      R  Adventure  1980   \n",
       "2   Star Wars: Episode V - The Empire Strikes Back     PG     Action  1980   \n",
       "3                                        Airplane!     PG     Comedy  1980   \n",
       "4                                       Caddyshack      R     Comedy  1980   \n",
       "5                                  Friday the 13th      R     Horror  1980   \n",
       "6                               The Blues Brothers      R     Action  1980   \n",
       "7                                      Raging Bull      R  Biography  1980   \n",
       "8                                      Superman II     PG     Action  1980   \n",
       "9                                  The Long Riders      R  Biography  1980   \n",
       "10                           Any Which Way You Can     PG     Action  1980   \n",
       "11                          The Gods Must Be Crazy     PG  Adventure  1980   \n",
       "12                                          Popeye     PG  Adventure  1980   \n",
       "13                                 Ordinary People      R      Drama  1980   \n",
       "14                                 Dressed to Kill      R      Crime  1980   \n",
       "15                               Somewhere in Time     PG      Drama  1980   \n",
       "16                                            Fame      R      Drama  1980   \n",
       "17                                          9 to 5     PG     Comedy  1980   \n",
       "18                                         The Fog      R     Horror  1980   \n",
       "19                                      Stir Crazy      R     Comedy  1980   \n",
       "\n",
       "                              released  score      votes            director  \\\n",
       "0        June 13, 1980 (United States)    8.4   927000.0     Stanley Kubrick   \n",
       "1         July 2, 1980 (United States)    5.8    65000.0      Randal Kleiser   \n",
       "2        June 20, 1980 (United States)    8.7  1200000.0      Irvin Kershner   \n",
       "3         July 2, 1980 (United States)    7.7   221000.0        Jim Abrahams   \n",
       "4        July 25, 1980 (United States)    7.3   108000.0        Harold Ramis   \n",
       "5          May 9, 1980 (United States)    6.4   123000.0  Sean S. Cunningham   \n",
       "6        June 20, 1980 (United States)    7.9   188000.0         John Landis   \n",
       "7    December 19, 1980 (United States)    8.2   330000.0     Martin Scorsese   \n",
       "8        June 19, 1981 (United States)    6.8   101000.0      Richard Lester   \n",
       "9         May 16, 1980 (United States)    7.0    10000.0         Walter Hill   \n",
       "10   December 17, 1980 (United States)    6.1    18000.0      Buddy Van Horn   \n",
       "11    October 26, 1984 (United States)    7.3    54000.0           Jamie Uys   \n",
       "12   December 12, 1980 (United States)    5.3    30000.0       Robert Altman   \n",
       "13  September 19, 1980 (United States)    7.7    49000.0      Robert Redford   \n",
       "14       July 25, 1980 (United States)    7.1    37000.0      Brian De Palma   \n",
       "15     October 3, 1980 (United States)    7.2    27000.0      Jeannot Szwarc   \n",
       "16        May 16, 1980 (United States)    6.6    21000.0         Alan Parker   \n",
       "17   December 19, 1980 (United States)    6.9    29000.0       Colin Higgins   \n",
       "18    February 8, 1980 (United States)    6.8    66000.0      John Carpenter   \n",
       "19   December 12, 1980 (United States)    6.8    26000.0      Sidney Poitier   \n",
       "\n",
       "                     writer               star         country      budget  \\\n",
       "0              Stephen King     Jack Nicholson  United Kingdom  19000000.0   \n",
       "1   Henry De Vere Stacpoole     Brooke Shields   United States   4500000.0   \n",
       "2            Leigh Brackett        Mark Hamill   United States  18000000.0   \n",
       "3              Jim Abrahams        Robert Hays   United States   3500000.0   \n",
       "4        Brian Doyle-Murray        Chevy Chase   United States   6000000.0   \n",
       "5             Victor Miller       Betsy Palmer   United States    550000.0   \n",
       "6               Dan Aykroyd       John Belushi   United States  27000000.0   \n",
       "7              Jake LaMotta     Robert De Niro   United States  18000000.0   \n",
       "8              Jerry Siegel       Gene Hackman   United States  54000000.0   \n",
       "9               Bill Bryden    David Carradine   United States  10000000.0   \n",
       "10         Stanford Sherman     Clint Eastwood   United States  15000000.0   \n",
       "11                Jamie Uys              N!xau    South Africa   5000000.0   \n",
       "12            Jules Feiffer     Robin Williams   United States  20000000.0   \n",
       "13             Judith Guest  Donald Sutherland   United States   6000000.0   \n",
       "14           Brian De Palma      Michael Caine   United States   6500000.0   \n",
       "15         Richard Matheson  Christopher Reeve   United States   5100000.0   \n",
       "16         Christopher Gore        Eddie Barth   United States         NaN   \n",
       "17         Patricia Resnick         Jane Fonda   United States  10000000.0   \n",
       "18           John Carpenter   Adrienne Barbeau   United States   1000000.0   \n",
       "19       Bruce Jay Friedman        Gene Wilder   United States         NaN   \n",
       "\n",
       "          gross                       company  runtime  \n",
       "0    46998772.0                  Warner Bros.    146.0  \n",
       "1    58853106.0             Columbia Pictures    104.0  \n",
       "2   538375067.0                     Lucasfilm    124.0  \n",
       "3    83453539.0            Paramount Pictures     88.0  \n",
       "4    39846344.0                Orion Pictures     98.0  \n",
       "5    39754601.0            Paramount Pictures     95.0  \n",
       "6   115229890.0            Universal Pictures    133.0  \n",
       "7    23402427.0  Chartoff-Winkler Productions    129.0  \n",
       "8   108185706.0                Dovemead Films    127.0  \n",
       "9    15795189.0                United Artists    100.0  \n",
       "10   70687344.0           The Malpaso Company    116.0  \n",
       "11   30031783.0                  C.A.T. Films    109.0  \n",
       "12   49823037.0            Paramount Pictures    114.0  \n",
       "13   54766923.0            Paramount Pictures    124.0  \n",
       "14   31899000.0             Filmways Pictures    104.0  \n",
       "15    9709597.0               Rastar Pictures    103.0  \n",
       "16   21202829.0     Metro-Goldwyn-Mayer (MGM)    134.0  \n",
       "17  103300686.0                     IPC Films    109.0  \n",
       "18   21448782.0         AVCO Embassy Pictures     89.0  \n",
       "19  101300000.0             Columbia Pictures    111.0  "
      ]
     },
     "execution_count": 4,
     "metadata": {},
     "output_type": "execute_result"
    }
   ],
   "source": [
    "movies.head(20)"
   ]
  },
  {
   "cell_type": "code",
   "execution_count": 5,
   "id": "aac9c5ec-897b-45aa-8683-b485c5b68f5f",
   "metadata": {},
   "outputs": [
    {
     "name": "stdout",
     "output_type": "stream",
     "text": [
      "name - 0.0%\n",
      "rating - 1.004173187271779%\n",
      "genre - 0.0%\n",
      "year - 0.0%\n",
      "released - 0.02608242044861763%\n",
      "score - 0.03912363067292645%\n",
      "votes - 0.03912363067292645%\n",
      "director - 0.0%\n",
      "writer - 0.03912363067292645%\n",
      "star - 0.013041210224308816%\n",
      "country - 0.03912363067292645%\n",
      "budget - 28.31246739697444%\n",
      "gross - 2.464788732394366%\n",
      "company - 0.2217005738132499%\n",
      "runtime - 0.05216484089723526%\n"
     ]
    }
   ],
   "source": [
    "#Finding percentage of missing values\n",
    "for col in movies:\n",
    "    pct_missing = np.mean(movies[col].isnull())\n",
    "    print('{} - {}%'.format(col, pct_missing*100))"
   ]
  },
  {
   "cell_type": "code",
   "execution_count": 6,
   "id": "880eb89f-c098-4ddc-865b-52d5ba177aa3",
   "metadata": {},
   "outputs": [
    {
     "data": {
      "text/plain": [
       "name           0\n",
       "rating        77\n",
       "genre          0\n",
       "year           0\n",
       "released       2\n",
       "score          3\n",
       "votes          3\n",
       "director       0\n",
       "writer         3\n",
       "star           1\n",
       "country        3\n",
       "budget      2171\n",
       "gross        189\n",
       "company       17\n",
       "runtime        4\n",
       "dtype: int64"
      ]
     },
     "execution_count": 6,
     "metadata": {},
     "output_type": "execute_result"
    }
   ],
   "source": [
    "movies.isna().sum()"
   ]
  },
  {
   "cell_type": "code",
   "execution_count": 7,
   "id": "295f54b1-9b04-45cd-bf04-62f8cc58b817",
   "metadata": {},
   "outputs": [],
   "source": [
    "#Treating missing values in numeric columns\n",
    "continuous_cols = ['gross', 'budget', 'votes', 'score', 'runtime']\n",
    "\n",
    "for col in continuous_cols:\n",
    "    mean = movies[col].mean()\n",
    "    movies[col].fillna(mean, inplace = True)"
   ]
  },
  {
   "cell_type": "code",
   "execution_count": 8,
   "id": "01d43153-055e-469d-9800-489811057c8a",
   "metadata": {},
   "outputs": [],
   "source": [
    "#Treating missing values in categorical columns\n",
    "movies['rating'].fillna(np.random.choice(['R', 'PG', 'G', 'Not Rated', 'NC-17', 'Approved', 'TV-PG',\n",
    "       'PG-13', 'Unrated', 'X', 'TV-MA', 'TV-14']), inplace= True)"
   ]
  },
  {
   "cell_type": "code",
   "execution_count": 9,
   "id": "1ff58911-b871-4ae1-9c20-e78aee0ae0d2",
   "metadata": {},
   "outputs": [
    {
     "data": {
      "text/plain": [
       "array(['R', 'PG', 'G', 'TV-MA', 'Not Rated', 'NC-17', 'Approved', 'TV-PG',\n",
       "       'PG-13', 'Unrated', 'X', 'TV-14'], dtype=object)"
      ]
     },
     "execution_count": 9,
     "metadata": {},
     "output_type": "execute_result"
    }
   ],
   "source": [
    "movies.rating.unique()"
   ]
  },
  {
   "cell_type": "code",
   "execution_count": 10,
   "id": "39193529-0732-47af-8395-b1df4a7e1656",
   "metadata": {},
   "outputs": [],
   "source": [
    "#Correcting the year of release\n",
    "movies['correct_year_released'] = movies.released.str.extract(r'(\\d{4})')"
   ]
  },
  {
   "cell_type": "code",
   "execution_count": 11,
   "id": "4c0dd58f-c460-4f53-89ce-c2ffd8672e63",
   "metadata": {},
   "outputs": [],
   "source": [
    "movies.drop(columns= 'year', inplace = True)"
   ]
  },
  {
   "cell_type": "code",
   "execution_count": 12,
   "id": "b21a614c-f4bb-4b9b-94e8-c9caadea8330",
   "metadata": {},
   "outputs": [
    {
     "data": {
      "text/plain": [
       "0"
      ]
     },
     "execution_count": 12,
     "metadata": {},
     "output_type": "execute_result"
    }
   ],
   "source": [
    "#Checking for duplicates\n",
    "movies.duplicated().sum()"
   ]
  },
  {
   "cell_type": "code",
   "execution_count": 13,
   "id": "0309a98d-4167-4509-ba13-dc01cca3e1fb",
   "metadata": {},
   "outputs": [],
   "source": [
    "#Changing data types\n",
    "movies[\"votes\"] = movies[\"votes\"].astype('int64')\n",
    "movies[\"budget\"] = movies[\"budget\"].astype('int64')\n",
    "movies[\"gross\"] = movies[\"gross\"].astype('int64')\n",
    "movies[\"runtime\"] = movies[\"runtime\"].astype('int64')"
   ]
  },
  {
   "cell_type": "code",
   "execution_count": 14,
   "id": "fdff5b2c-5df1-434c-8afc-f31968143573",
   "metadata": {},
   "outputs": [],
   "source": [
    "pd.set_option('display.max_rows', None)"
   ]
  },
  {
   "cell_type": "markdown",
   "id": "156aa9f3-5f59-406c-8c4c-22d14773ebae",
   "metadata": {},
   "source": [
    "#### Exploratory Data Analysis"
   ]
  },
  {
   "cell_type": "code",
   "execution_count": 15,
   "id": "fad357f0-5d03-4b4b-9d0d-a3fc8b47e26a",
   "metadata": {},
   "outputs": [
    {
     "data": {
      "text/plain": [
       "rating\n",
       "R            48.21%\n",
       "PG-13        27.54%\n",
       "PG           16.33%\n",
       "Not Rated     3.69%\n",
       "G             2.00%\n",
       "TV-MA         1.12%\n",
       "Unrated       0.68%\n",
       "NC-17         0.30%\n",
       "TV-PG         0.07%\n",
       "X             0.04%\n",
       "Approved      0.01%\n",
       "TV-14         0.01%\n",
       "Name: count, dtype: object"
      ]
     },
     "execution_count": 15,
     "metadata": {},
     "output_type": "execute_result"
    }
   ],
   "source": [
    "ratings = movies.rating.value_counts()*100/movies.shape[0]\n",
    "formatted_ratings = ratings.apply(lambda x: f'{x:0.2f}%')\n",
    "formatted_ratings"
   ]
  },
  {
   "cell_type": "code",
   "execution_count": 16,
   "id": "d8a2d457-b086-4590-b530-16881c4d76a8",
   "metadata": {},
   "outputs": [
    {
     "ename": "NameError",
     "evalue": "name 'px' is not defined",
     "output_type": "error",
     "traceback": [
      "\u001b[1;31m---------------------------------------------------------------------------\u001b[0m",
      "\u001b[1;31mNameError\u001b[0m                                 Traceback (most recent call last)",
      "Cell \u001b[1;32mIn[16], line 1\u001b[0m\n\u001b[1;32m----> 1\u001b[0m px\u001b[38;5;241m.\u001b[39mbar(data_frame\u001b[38;5;241m=\u001b[39m ratings, x\u001b[38;5;241m=\u001b[39m ratings\u001b[38;5;241m.\u001b[39mindex, y\u001b[38;5;241m=\u001b[39m ratings\u001b[38;5;241m*\u001b[39m\u001b[38;5;241m100\u001b[39m\u001b[38;5;241m/\u001b[39m\u001b[38;5;28msum\u001b[39m(ratings), labels \u001b[38;5;241m=\u001b[39m {\u001b[38;5;124m'\u001b[39m\u001b[38;5;124mindex\u001b[39m\u001b[38;5;124m'\u001b[39m:\u001b[38;5;124m'\u001b[39m\u001b[38;5;124mRating\u001b[39m\u001b[38;5;124m'\u001b[39m, \u001b[38;5;124m'\u001b[39m\u001b[38;5;124my\u001b[39m\u001b[38;5;124m'\u001b[39m:\u001b[38;5;124m'\u001b[39m\u001b[38;5;124mFrequency \u001b[39m\u001b[38;5;124m%\u001b[39m\u001b[38;5;124m'\u001b[39m},\n\u001b[0;32m      2\u001b[0m            title\u001b[38;5;241m=\u001b[39m \u001b[38;5;124m'\u001b[39m\u001b[38;5;124mFrequency Distribution of Movie Ratings\u001b[39m\u001b[38;5;124m'\u001b[39m, text \u001b[38;5;241m=\u001b[39m ratings\u001b[38;5;241m.\u001b[39mapply(\u001b[38;5;28;01mlambda\u001b[39;00m x: \u001b[38;5;124mf\u001b[39m\u001b[38;5;124m\"\u001b[39m\u001b[38;5;132;01m{\u001b[39;00mx\u001b[38;5;250m \u001b[39m\u001b[38;5;241m/\u001b[39m\u001b[38;5;250m \u001b[39m\u001b[38;5;28msum\u001b[39m(ratings)\u001b[38;5;250m \u001b[39m\u001b[38;5;241m*\u001b[39m\u001b[38;5;250m \u001b[39m\u001b[38;5;241m100\u001b[39m\u001b[38;5;132;01m:\u001b[39;00m\u001b[38;5;124m 0.2f\u001b[39m\u001b[38;5;132;01m}\u001b[39;00m\u001b[38;5;124m%\u001b[39m\u001b[38;5;124m\"\u001b[39m),\n\u001b[0;32m      3\u001b[0m             color\u001b[38;5;241m=\u001b[39mratings\u001b[38;5;241m.\u001b[39mindex, width \u001b[38;5;241m=\u001b[39m \u001b[38;5;241m900\u001b[39m, height \u001b[38;5;241m=\u001b[39m \u001b[38;5;241m500\u001b[39m, template\u001b[38;5;241m=\u001b[39m \u001b[38;5;124m'\u001b[39m\u001b[38;5;124mplotly\u001b[39m\u001b[38;5;124m'\u001b[39m)\n",
      "\u001b[1;31mNameError\u001b[0m: name 'px' is not defined"
     ]
    }
   ],
   "source": [
    "px.bar(data_frame= ratings, x= ratings.index, y= ratings*100/sum(ratings), labels = {'index':'Rating', 'y':'Frequency %'},\n",
    "           title= 'Frequency Distribution of Movie Ratings', text = ratings.apply(lambda x: f\"{x / sum(ratings) * 100: 0.2f}%\"),\n",
    "            color=ratings.index, width = 900, height = 500, template= 'plotly')"
   ]
  },
  {
   "cell_type": "code",
   "execution_count": null,
   "id": "05963fc7-01a3-4f67-ba9d-0e21e5ead240",
   "metadata": {},
   "outputs": [],
   "source": [
    "genre = movies.genre.value_counts()*100/movies.shape[0]\n",
    "genre_pct= genre.apply(lambda x: f'{x: 0.2f}%')\n",
    "genre_pct"
   ]
  },
  {
   "cell_type": "code",
   "execution_count": null,
   "id": "a977787f-8f16-4ec2-a21b-80ccf7b07c07",
   "metadata": {},
   "outputs": [],
   "source": [
    "px.bar(data_frame= genre, x= genre.index, y= genre*100/sum(genre), labels = {'index':'Movie Genre', 'y':'Frequency %'},\n",
    "           title= 'Movie Genre Popularity', text = genre.apply(lambda x: f\"{x / sum(genre) * 100: 0.2f}%\"),\n",
    "             width = 900, height = 500, template= 'plotly')"
   ]
  },
  {
   "cell_type": "code",
   "execution_count": null,
   "id": "417ab7b4-9523-439c-b778-dec56dbb4ac1",
   "metadata": {},
   "outputs": [],
   "source": [
    "year = movies.correct_year_released.value_counts().sort_index()\n",
    "year.head(10)"
   ]
  },
  {
   "cell_type": "code",
   "execution_count": null,
   "id": "2871be2f-79e9-4345-a1c6-d3c5e88d2131",
   "metadata": {},
   "outputs": [],
   "source": [
    "a = px.area(data_frame= year, x= year.index, y=year, labels = {'index':'Year', 'y':'Number of Movies Released'},\n",
    "           title= 'Movie Counts by Year',\n",
    "             width = 800, height = 500, template= 'plotly' )\n",
    "a.update_layout(xaxis=dict(tickvals=[1980, 1985, 1990, 1995, 2000, 2005, 2010, 2015, 2020],\n",
    "                        ticktext = ['1980', '1985', '1990', '1995', '2000', '2005', '2010', '2015', '2020']))"
   ]
  },
  {
   "cell_type": "code",
   "execution_count": null,
   "id": "4bbdccc2-9808-4f29-81c2-ccce55701fb0",
   "metadata": {},
   "outputs": [],
   "source": [
    "px.histogram(data_frame= movies.score, width = 700, height = 500, title= 'Frequency Distribution of Scores', template= 'plotly_dark',\n",
    "            labels= {'value':'Scores'})"
   ]
  },
  {
   "cell_type": "code",
   "execution_count": null,
   "id": "bb7f925c-8da8-47ee-aec4-7a3b54166c0f",
   "metadata": {},
   "outputs": [],
   "source": [
    "top_directors = movies.director.value_counts().head(10)\n",
    "top_directors"
   ]
  },
  {
   "cell_type": "code",
   "execution_count": null,
   "id": "78991c73-6a86-4fa8-b525-03156cffa111",
   "metadata": {},
   "outputs": [],
   "source": [
    "px.bar(data_frame= top_directors, x= top_directors, y=top_directors.index, labels = {'y':'Movie Directors', 'x':'Number of Movies'},\n",
    "           title= 'Top 10 Directors by Number of Movies',\n",
    "             width = 800, height = 500, template= 'plotly', text = top_directors, orientation= 'h' )"
   ]
  },
  {
   "cell_type": "code",
   "execution_count": null,
   "id": "144d839a-9af0-40c1-9a32-d01faafc18a8",
   "metadata": {},
   "outputs": [],
   "source": [
    "px.histogram(data_frame= movies.runtime, width = 800, height = 500, template= 'plotly_dark', \n",
    "              labels = {'count':'Frequency', 'value':'Movie Runtime'},\n",
    "           title= 'Frequency Distribution of Movie Runtime', )"
   ]
  },
  {
   "cell_type": "markdown",
   "id": "236ad8cf-3dcf-4341-8fb5-da33677843f3",
   "metadata": {},
   "source": [
    "##### Top 10 movies based on scores"
   ]
  },
  {
   "cell_type": "code",
   "execution_count": null,
   "id": "202f63ab-dc3f-4039-b800-8d8b827b3612",
   "metadata": {},
   "outputs": [],
   "source": [
    "top_ten_movies = movies.loc[:, ['name', 'score']].sort_values(by = 'score', ascending = False).head(10)\n",
    "top_ten_movies"
   ]
  },
  {
   "cell_type": "markdown",
   "id": "6b6f3e54-cdb9-41b6-9073-af56651bb66f",
   "metadata": {},
   "source": [
    "##### Top 10 Companies by Average Gross Revenue"
   ]
  },
  {
   "cell_type": "code",
   "execution_count": null,
   "id": "523b84b7-8434-437c-89ac-9ba20754ac8c",
   "metadata": {},
   "outputs": [],
   "source": [
    "top_ten_companies = movies.groupby('company')['gross'].mean().sort_values( ascending = False).head(10).reset_index()\n",
    "top_ten_companies"
   ]
  },
  {
   "cell_type": "code",
   "execution_count": null,
   "id": "2cb6bc0d-257f-4ba5-97f2-62b9280dcc6d",
   "metadata": {},
   "outputs": [],
   "source": [
    "px.bar(data_frame= top_ten_companies, x= top_ten_companies.gross, y=top_ten_companies.company, \n",
    "       labels = {'y':'Film Production', 'x':'Average Gross Earnings'},\n",
    "           title= 'Top 10 Film Productions by Average Gross Earnings',\n",
    "             width = 900, height = 500, template= 'plotly', orientation= 'h', color = 'company', text = top_ten_companies.gross )"
   ]
  },
  {
   "cell_type": "code",
   "execution_count": null,
   "id": "dfecbe78-1e7d-4ea6-88b2-a55344c811f7",
   "metadata": {},
   "outputs": [],
   "source": [
    "b = movies.groupby('correct_year_released', as_index= False)['genre'].value_counts()\n",
    "filter = b.groupby('correct_year_released')['count'].nlargest(3).droplevel(0).index\n",
    "b = b.iloc[filter]\n",
    "b = b.loc[b.correct_year_released >='2017', :]\n",
    "b"
   ]
  },
  {
   "cell_type": "code",
   "execution_count": null,
   "id": "29c21bc2-13a7-4035-a351-810b6d3bbb45",
   "metadata": {},
   "outputs": [],
   "source": [
    "px.bar(data_frame= b, x= 'correct_year_released', y = 'count', color = 'genre', width = 500, height = 600, template ='ggplot2',\n",
    "                      labels= {'correct_year_released':'Year'}, title= 'Most Popular Genres in Each Year From 2017')"
   ]
  },
  {
   "cell_type": "markdown",
   "id": "eedf56fb-8e18-4304-9832-67cd73b70f92",
   "metadata": {},
   "source": [
    "#### Correlation Analysis: What factors influence Gross Earnings of a Film?"
   ]
  },
  {
   "cell_type": "code",
   "execution_count": null,
   "id": "b6e0ca32-49f2-41dd-bd63-fccc47afe970",
   "metadata": {},
   "outputs": [],
   "source": [
    "#Seeing correlation between numeric columns\n",
    "correlation = movies.select_dtypes(['int64', 'float64']).corr()\n",
    "correlation"
   ]
  },
  {
   "cell_type": "code",
   "execution_count": null,
   "id": "565d6bf3-c2f7-4dfd-8c27-6b0ced5b273f",
   "metadata": {},
   "outputs": [],
   "source": [
    "import plotly.express as px\n",
    "\n",
    "fig = px.imshow(correlation, text_auto=True)\n",
    "fig.update_layout(title='Correlation Matrix', width = 800, height =600)"
   ]
  },
  {
   "cell_type": "markdown",
   "id": "4aaa60fe-257d-4d60-85a2-406e846ae4b6",
   "metadata": {},
   "source": [
    "From the correlation matrix, we can tell that gross earnings has a strong positive correlation with budget(0.74) and votes(0.63)"
   ]
  },
  {
   "cell_type": "code",
   "execution_count": null,
   "id": "19ca6d42-71e7-4ad9-8bd2-319457c76f0c",
   "metadata": {},
   "outputs": [],
   "source": [
    "#Seeing the correlation of categorical columns with gross earnings\n",
    "movies1 = movies\n",
    "for col in movies1:\n",
    "    if movies1[col].dtype == 'object':\n",
    "        movies1[col] = movies[col].astype('category')\n",
    "        movies1[col] = movies[col].cat.codes\n",
    "movies1"
   ]
  },
  {
   "cell_type": "code",
   "execution_count": null,
   "id": "2a09c652-cf25-40df-a57c-c4896b6e1b4c",
   "metadata": {},
   "outputs": [],
   "source": [
    "correlation_matrix2 = movies1.corr()\n",
    "correlation_matrix2"
   ]
  },
  {
   "cell_type": "code",
   "execution_count": null,
   "id": "de890031-2dfe-4f82-ae30-d22b74990aa9",
   "metadata": {},
   "outputs": [],
   "source": [
    "px.imshow(correlation_matrix2, width = 1100, height = 1100, text_auto= True, title = 'Correlation Matrix for Movies',\n",
    "         color_continuous_scale = 'viridis')"
   ]
  },
  {
   "cell_type": "code",
   "execution_count": null,
   "id": "0ac2f095-339b-431d-921d-86574785f194",
   "metadata": {},
   "outputs": [],
   "source": [
    "#Understanding the relationship between gross earnings and budget\n",
    "px.scatter(data_frame=movies, x= movies.gross, y= movies.budget, trendline = 'ols', color = movies.gross, \n",
    "           template = 'seaborn', width = 800, height = 600, title = 'Budget vs Gross Earnings', labels= {'gross':'gross earnings'})"
   ]
  },
  {
   "cell_type": "markdown",
   "id": "25a1fb0a-03f7-486e-b590-791618b48262",
   "metadata": {},
   "source": [
    "The more the budget increases, the more is the gross earnings expected from a film"
   ]
  },
  {
   "cell_type": "code",
   "execution_count": null,
   "id": "b10ec39b-629f-4e8b-a170-b9a80e513d0d",
   "metadata": {},
   "outputs": [],
   "source": [
    "#Understanding the relationship between votes and gross earnings\n",
    "px.scatter(data_frame=movies, x= movies.gross, y= movies.votes, trendline = 'ols', color = movies.gross, \n",
    "           template = 'seaborn', width = 800, height = 600, title = 'Votes vs Gross Earnings', labels= {'gross':'gross earnings'})"
   ]
  },
  {
   "cell_type": "markdown",
   "id": "f639ffa1-5f5a-400d-b4c2-edf24e6f6cc4",
   "metadata": {},
   "source": [
    "As expected, if a movies garners more votes(i.e, the number of people who have watched the movie), its gross earnings increase."
   ]
  }
 ],
 "metadata": {
  "kernelspec": {
   "display_name": "Python 3 (ipykernel)",
   "language": "python",
   "name": "python3"
  },
  "language_info": {
   "codemirror_mode": {
    "name": "ipython",
    "version": 3
   },
   "file_extension": ".py",
   "mimetype": "text/x-python",
   "name": "python",
   "nbconvert_exporter": "python",
   "pygments_lexer": "ipython3",
   "version": "3.11.7"
  }
 },
 "nbformat": 4,
 "nbformat_minor": 5
}
